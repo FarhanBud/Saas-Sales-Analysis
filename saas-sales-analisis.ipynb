{
 "cells": [
  {
   "cell_type": "markdown",
   "id": "a98ef6fc",
   "metadata": {},
   "source": [
    "## Saas Sales Analyst - Capstone Project 2: Data Analyst\n"
   ]
  },
  {
   "cell_type": "markdown",
   "id": "7f07a604",
   "metadata": {},
   "source": [
    "Perusahaan ABC SaaS Company merupakan penyedia layanan software berbasis langganan (Software as a Service) yang menjual produk digital ke berbagai perusahaan di sektor bisnis (B2B).\n",
    "Model bisnis SaaS berbeda dengan penjualan software konvensional karena pelanggan tidak membeli lisensi permanen, tetapi membayar biaya berlangganan (subscription) untuk menggunakan produk dalam jangka waktu tertentu.\n",
    "\n",
    "Dalam industri SaaS, pendapatan (sales) dan keuntungan (profit) dipengaruhi oleh berbagai faktor, seperti:\n",
    "\n",
    "- Harga dan diskon yang diberikan pada pelanggan.\n",
    "- Jumlah lisensi atau pengguna yang dibeli (quantity).\n",
    "- Segmen dan industri pelanggan (SMB, Enterprise, Strategic, dll).\n",
    "- Wilayah atau negara tempat transaksi terjadi.\n",
    "\n",
    "Dataset ini berisi data transaksi penjualan SaaS software ke berbagai pelanggan korporat di berbagai negara.\n",
    "Setiap baris merepresentasikan satu produk dalam satu transaksi, sehingga satu order bisa berisi lebih dari satu produk."
   ]
  },
  {
   "cell_type": "code",
   "execution_count": 2,
   "id": "b4a3b019",
   "metadata": {},
   "outputs": [],
   "source": [
    "import pandas as pd\n",
    "import numpy as np\n",
    "import matplotlib.pyplot as plt\n",
    "import seaborn as sns\n",
    "import plotly.express as px\n",
    "from scipy.stats import normaltest, chi2_contingency, mannwhitneyu, ttest_ind\n",
    "\n",
    "import warnings\n",
    "warnings.filterwarnings(\"ignore\")"
   ]
  },
  {
   "cell_type": "markdown",
   "id": "db521eff",
   "metadata": {},
   "source": [
    "Data Read"
   ]
  },
  {
   "cell_type": "code",
   "execution_count": 3,
   "id": "380acb85",
   "metadata": {},
   "outputs": [
    {
     "data": {
      "text/html": [
       "<div>\n",
       "<style scoped>\n",
       "    .dataframe tbody tr th:only-of-type {\n",
       "        vertical-align: middle;\n",
       "    }\n",
       "\n",
       "    .dataframe tbody tr th {\n",
       "        vertical-align: top;\n",
       "    }\n",
       "\n",
       "    .dataframe thead th {\n",
       "        text-align: right;\n",
       "    }\n",
       "</style>\n",
       "<table border=\"1\" class=\"dataframe\">\n",
       "  <thead>\n",
       "    <tr style=\"text-align: right;\">\n",
       "      <th></th>\n",
       "      <th>Row ID</th>\n",
       "      <th>Order ID</th>\n",
       "      <th>Order Date</th>\n",
       "      <th>Date Key</th>\n",
       "      <th>Contact Name</th>\n",
       "      <th>Country</th>\n",
       "      <th>City</th>\n",
       "      <th>Region</th>\n",
       "      <th>Subregion</th>\n",
       "      <th>Customer</th>\n",
       "      <th>Customer ID</th>\n",
       "      <th>Industry</th>\n",
       "      <th>Segment</th>\n",
       "      <th>Product</th>\n",
       "      <th>License</th>\n",
       "      <th>Sales</th>\n",
       "      <th>Quantity</th>\n",
       "      <th>Discount</th>\n",
       "      <th>Profit</th>\n",
       "    </tr>\n",
       "  </thead>\n",
       "  <tbody>\n",
       "    <tr>\n",
       "      <th>0</th>\n",
       "      <td>1</td>\n",
       "      <td>EMEA-2022-152156</td>\n",
       "      <td>11/9/2022</td>\n",
       "      <td>20221109</td>\n",
       "      <td>Nathan Bell</td>\n",
       "      <td>Ireland</td>\n",
       "      <td>Dublin</td>\n",
       "      <td>EMEA</td>\n",
       "      <td>UKIR</td>\n",
       "      <td>Chevron</td>\n",
       "      <td>1017</td>\n",
       "      <td>Energy</td>\n",
       "      <td>SMB</td>\n",
       "      <td>Marketing Suite</td>\n",
       "      <td>16GRM07R1K</td>\n",
       "      <td>261.9600</td>\n",
       "      <td>2</td>\n",
       "      <td>0.00</td>\n",
       "      <td>41.9136</td>\n",
       "    </tr>\n",
       "    <tr>\n",
       "      <th>1</th>\n",
       "      <td>2</td>\n",
       "      <td>EMEA-2022-152156</td>\n",
       "      <td>11/9/2022</td>\n",
       "      <td>20221109</td>\n",
       "      <td>Nathan Bell</td>\n",
       "      <td>Ireland</td>\n",
       "      <td>Dublin</td>\n",
       "      <td>EMEA</td>\n",
       "      <td>UKIR</td>\n",
       "      <td>Chevron</td>\n",
       "      <td>1017</td>\n",
       "      <td>Energy</td>\n",
       "      <td>SMB</td>\n",
       "      <td>FinanceHub</td>\n",
       "      <td>QLIW57KZUV</td>\n",
       "      <td>731.9400</td>\n",
       "      <td>3</td>\n",
       "      <td>0.00</td>\n",
       "      <td>219.5820</td>\n",
       "    </tr>\n",
       "    <tr>\n",
       "      <th>2</th>\n",
       "      <td>3</td>\n",
       "      <td>AMER-2022-138688</td>\n",
       "      <td>6/13/2022</td>\n",
       "      <td>20220613</td>\n",
       "      <td>Deirdre Bailey</td>\n",
       "      <td>United States</td>\n",
       "      <td>New York City</td>\n",
       "      <td>AMER</td>\n",
       "      <td>NAMER</td>\n",
       "      <td>Phillips 66</td>\n",
       "      <td>1056</td>\n",
       "      <td>Energy</td>\n",
       "      <td>Strategic</td>\n",
       "      <td>FinanceHub</td>\n",
       "      <td>JI6BVL70HQ</td>\n",
       "      <td>14.6200</td>\n",
       "      <td>2</td>\n",
       "      <td>0.00</td>\n",
       "      <td>6.8714</td>\n",
       "    </tr>\n",
       "    <tr>\n",
       "      <th>3</th>\n",
       "      <td>4</td>\n",
       "      <td>EMEA-2021-108966</td>\n",
       "      <td>10/11/2021</td>\n",
       "      <td>20211011</td>\n",
       "      <td>Zoe Hodges</td>\n",
       "      <td>Germany</td>\n",
       "      <td>Stuttgart</td>\n",
       "      <td>EMEA</td>\n",
       "      <td>EU-WEST</td>\n",
       "      <td>Royal Dutch Shell</td>\n",
       "      <td>1031</td>\n",
       "      <td>Energy</td>\n",
       "      <td>SMB</td>\n",
       "      <td>ContactMatcher</td>\n",
       "      <td>DE9GJKGD44</td>\n",
       "      <td>957.5775</td>\n",
       "      <td>5</td>\n",
       "      <td>0.45</td>\n",
       "      <td>-383.0310</td>\n",
       "    </tr>\n",
       "    <tr>\n",
       "      <th>4</th>\n",
       "      <td>5</td>\n",
       "      <td>EMEA-2021-108966</td>\n",
       "      <td>10/11/2021</td>\n",
       "      <td>20211011</td>\n",
       "      <td>Zoe Hodges</td>\n",
       "      <td>Germany</td>\n",
       "      <td>Stuttgart</td>\n",
       "      <td>EMEA</td>\n",
       "      <td>EU-WEST</td>\n",
       "      <td>Royal Dutch Shell</td>\n",
       "      <td>1031</td>\n",
       "      <td>Energy</td>\n",
       "      <td>SMB</td>\n",
       "      <td>Marketing Suite - Gold</td>\n",
       "      <td>OIF7NY23WD</td>\n",
       "      <td>22.3680</td>\n",
       "      <td>2</td>\n",
       "      <td>0.20</td>\n",
       "      <td>2.5164</td>\n",
       "    </tr>\n",
       "  </tbody>\n",
       "</table>\n",
       "</div>"
      ],
      "text/plain": [
       "   Row ID          Order ID  Order Date  Date Key    Contact Name  \\\n",
       "0       1  EMEA-2022-152156   11/9/2022  20221109     Nathan Bell   \n",
       "1       2  EMEA-2022-152156   11/9/2022  20221109     Nathan Bell   \n",
       "2       3  AMER-2022-138688   6/13/2022  20220613  Deirdre Bailey   \n",
       "3       4  EMEA-2021-108966  10/11/2021  20211011      Zoe Hodges   \n",
       "4       5  EMEA-2021-108966  10/11/2021  20211011      Zoe Hodges   \n",
       "\n",
       "         Country           City Region Subregion           Customer  \\\n",
       "0        Ireland         Dublin   EMEA      UKIR            Chevron   \n",
       "1        Ireland         Dublin   EMEA      UKIR            Chevron   \n",
       "2  United States  New York City   AMER     NAMER        Phillips 66   \n",
       "3        Germany      Stuttgart   EMEA   EU-WEST  Royal Dutch Shell   \n",
       "4        Germany      Stuttgart   EMEA   EU-WEST  Royal Dutch Shell   \n",
       "\n",
       "   Customer ID Industry    Segment                 Product     License  \\\n",
       "0         1017   Energy        SMB         Marketing Suite  16GRM07R1K   \n",
       "1         1017   Energy        SMB              FinanceHub  QLIW57KZUV   \n",
       "2         1056   Energy  Strategic              FinanceHub  JI6BVL70HQ   \n",
       "3         1031   Energy        SMB          ContactMatcher  DE9GJKGD44   \n",
       "4         1031   Energy        SMB  Marketing Suite - Gold  OIF7NY23WD   \n",
       "\n",
       "      Sales  Quantity  Discount    Profit  \n",
       "0  261.9600         2      0.00   41.9136  \n",
       "1  731.9400         3      0.00  219.5820  \n",
       "2   14.6200         2      0.00    6.8714  \n",
       "3  957.5775         5      0.45 -383.0310  \n",
       "4   22.3680         2      0.20    2.5164  "
      ]
     },
     "execution_count": 3,
     "metadata": {},
     "output_type": "execute_result"
    }
   ],
   "source": [
    "df = pd.read_csv('SaaS-Sales.csv')\n",
    "df.head()"
   ]
  },
  {
   "cell_type": "markdown",
   "id": "41e94974",
   "metadata": {},
   "source": [
    "## Tujuan dan Alasan Dilakukannya Data Cleaning\n",
    "\n",
    "Sebelum melakukan analisis di Tableau atau Python, data perlu melalui tahap data cleaning (pembersihan data) untuk memastikan dataset:\n",
    "\n",
    "- ✅ Bersih dari anomali seperti nilai kosong (missing values), duplikat, dan kesalahan format.\n",
    "- ✅ Konsisten dalam tipe data, misalnya tanggal yang benar-benar dalam format datetime dan nilai numerik bebas dari simbol ($, ,, %).\n",
    "- ✅ Relevan dan dapat diolah tanpa error di tools analisis seperti Tableau Public.\n",
    "\n",
    "Langkah pembersihan data dilakukan agar:\n",
    "\n",
    "- Analisis statistik dan visualisasi tidak bias atau salah interpretasi akibat data kotor.\n",
    "- Nilai seperti Sales, Profit, dan Discount dapat dibandingkan secara akurat.\n",
    "- Dataset bisa digunakan langsung untuk membangun dashboard interaktif di Tableau tanpa error pada saat import.\n",
    "\n",
    "Tahapan data cleaning yang dilakukan meliputi:\n",
    "\n",
    "1. Pemeriksaan struktur data (tipe kolom, jumlah missing values, dan outlier).\n",
    "2. Penanganan missing values dengan metode yang logis (imputasi median atau pengisian 'Unknown').\n",
    "3. Pembersihan duplikat dan inkonsistensi format teks (spasi, huruf besar-kecil).\n",
    "4. Konversi kolom numerik dan tanggal ke format yang sesuai.\n",
    "5. Penambahan kolom turunan seperti Unit Price dan Profit Margin untuk analisis profitabilitas."
   ]
  },
  {
   "cell_type": "code",
   "execution_count": 4,
   "id": "9ddde6ef",
   "metadata": {},
   "outputs": [
    {
     "name": "stdout",
     "output_type": "stream",
     "text": [
      "<class 'pandas.core.frame.DataFrame'>\n",
      "RangeIndex: 9994 entries, 0 to 9993\n",
      "Data columns (total 19 columns):\n",
      " #   Column        Non-Null Count  Dtype  \n",
      "---  ------        --------------  -----  \n",
      " 0   Row ID        9994 non-null   int64  \n",
      " 1   Order ID      9994 non-null   object \n",
      " 2   Order Date    9994 non-null   object \n",
      " 3   Date Key      9994 non-null   int64  \n",
      " 4   Contact Name  9994 non-null   object \n",
      " 5   Country       9994 non-null   object \n",
      " 6   City          9994 non-null   object \n",
      " 7   Region        9994 non-null   object \n",
      " 8   Subregion     9994 non-null   object \n",
      " 9   Customer      9994 non-null   object \n",
      " 10  Customer ID   9994 non-null   int64  \n",
      " 11  Industry      9994 non-null   object \n",
      " 12  Segment       9994 non-null   object \n",
      " 13  Product       9994 non-null   object \n",
      " 14  License       9994 non-null   object \n",
      " 15  Sales         9994 non-null   float64\n",
      " 16  Quantity      9994 non-null   int64  \n",
      " 17  Discount      9994 non-null   float64\n",
      " 18  Profit        9994 non-null   float64\n",
      "dtypes: float64(3), int64(4), object(12)\n",
      "memory usage: 1.4+ MB\n"
     ]
    }
   ],
   "source": [
    "df.info()"
   ]
  },
  {
   "cell_type": "code",
   "execution_count": 5,
   "id": "e7dbe6ff",
   "metadata": {},
   "outputs": [
    {
     "data": {
      "text/plain": [
       "(9994, 19)"
      ]
     },
     "execution_count": 5,
     "metadata": {},
     "output_type": "execute_result"
    }
   ],
   "source": [
    "df.shape"
   ]
  },
  {
   "cell_type": "markdown",
   "id": "a76172d1",
   "metadata": {},
   "source": [
    "# Cek Missing Value"
   ]
  },
  {
   "cell_type": "code",
   "execution_count": 6,
   "id": "d55f8d49",
   "metadata": {},
   "outputs": [
    {
     "data": {
      "text/plain": [
       "Row ID          0\n",
       "Order ID        0\n",
       "Order Date      0\n",
       "Date Key        0\n",
       "Contact Name    0\n",
       "Country         0\n",
       "City            0\n",
       "Region          0\n",
       "Subregion       0\n",
       "Customer        0\n",
       "Customer ID     0\n",
       "Industry        0\n",
       "Segment         0\n",
       "Product         0\n",
       "License         0\n",
       "Sales           0\n",
       "Quantity        0\n",
       "Discount        0\n",
       "Profit          0\n",
       "dtype: int64"
      ]
     },
     "execution_count": 6,
     "metadata": {},
     "output_type": "execute_result"
    }
   ],
   "source": [
    "df.isnull().sum()"
   ]
  },
  {
   "cell_type": "markdown",
   "id": "aa705d16",
   "metadata": {},
   "source": [
    "* tidak ada missing value"
   ]
  },
  {
   "cell_type": "markdown",
   "id": "354ddaaf",
   "metadata": {},
   "source": [
    "### Hapus Spasi lebih dan format teks\n",
    "- antisipasi error karena ad space di column "
   ]
  },
  {
   "cell_type": "code",
   "execution_count": 7,
   "id": "481c8720",
   "metadata": {},
   "outputs": [],
   "source": [
    "df.columns = df.columns.str.strip()\n",
    "for col in df.select_dtypes(include='object').columns:\n",
    "    df[col] = df[col].astype(str).str.strip().replace('nan', np.nan)"
   ]
  },
  {
   "cell_type": "markdown",
   "id": "b1d4071a",
   "metadata": {},
   "source": [
    "### Ubah kolom tanggal ke format datetime"
   ]
  },
  {
   "cell_type": "code",
   "execution_count": 8,
   "id": "3bd43784",
   "metadata": {},
   "outputs": [],
   "source": [
    "df['Order Date'] = pd.to_datetime(df['Order Date'], errors='coerce')\n",
    "df['Date Key'] = pd.to_datetime(df['Date Key'], format='%Y%m%d', errors='coerce')"
   ]
  },
  {
   "cell_type": "markdown",
   "id": "b86de868",
   "metadata": {},
   "source": [
    "### Memastikan kolom numerik benar-benar numerik"
   ]
  },
  {
   "cell_type": "code",
   "execution_count": 9,
   "id": "7e661d4a",
   "metadata": {},
   "outputs": [],
   "source": [
    "num_cols = ['Sales', 'Quantity', 'Discount', 'Profit']\n",
    "\n",
    "for col in num_cols:\n",
    "    df[col] = df[col].astype(str).str.replace('[^0-9\\.\\-]', '', regex=True)\n",
    "    df[col] = pd.to_numeric(df[col], errors='coerce')"
   ]
  },
  {
   "cell_type": "markdown",
   "id": "9040fa9b",
   "metadata": {},
   "source": [
    "### Cek dan hapus data duplikat"
   ]
  },
  {
   "cell_type": "code",
   "execution_count": 10,
   "id": "d3f1a69d",
   "metadata": {},
   "outputs": [],
   "source": [
    "df.duplicated().sum()\n",
    "df = df.drop_duplicates()"
   ]
  },
  {
   "cell_type": "markdown",
   "id": "29a0fb16",
   "metadata": {},
   "source": [
    "### Tangani missing values"
   ]
  },
  {
   "cell_type": "code",
   "execution_count": 11,
   "id": "c9331a6b",
   "metadata": {},
   "outputs": [],
   "source": [
    "# Isi kolom numerik yang kosong dengan median\n",
    "for col in num_cols:\n",
    "    df[col] = df[col].fillna(df[col].median())\n",
    "\n",
    "# Isi kolom kategori kosong dengan 'Unknown'\n",
    "for col in df.select_dtypes(include='object').columns:\n",
    "    df[col] = df[col].fillna('Unknown')"
   ]
  },
  {
   "cell_type": "markdown",
   "id": "2a07ccf2",
   "metadata": {},
   "source": [
    "### Cek outlier  (boxplot)"
   ]
  },
  {
   "cell_type": "code",
   "execution_count": 12,
   "id": "f3851236",
   "metadata": {},
   "outputs": [
    {
     "data": {
      "image/png": "[encoded data removed]",
      "text/plain": [
       "<Figure size 1000x500 with 1 Axes>"
      ]
     },
     "metadata": {},
     "output_type": "display_data"
    }
   ],
   "source": [
    "plt.figure(figsize=(10,5))\n",
    "sns.boxplot(data=df[['Sales', 'Profit', 'Discount']])\n",
    "plt.title('Cek Outlier pada Kolom Numerik')\n",
    "plt.show()"
   ]
  },
  {
   "cell_type": "markdown",
   "id": "438d1c6b",
   "metadata": {},
   "source": [
    "### Tambah kolom tambahan untuk analisis nanti di Tableau"
   ]
  },
  {
   "cell_type": "code",
   "execution_count": 13,
   "id": "9cb9b157",
   "metadata": {},
   "outputs": [],
   "source": [
    "df['Year'] = df['Order Date'].dt.year\n",
    "df['Month'] = df['Order Date'].dt.month\n",
    "df['YearMonth'] = df['Order Date'].dt.to_period('M').astype(str)\n",
    "\n",
    "df['Unit Price'] = np.where(df['Quantity'] > 0, df['Sales'] / df['Quantity'], np.nan)\n",
    "df['Profit Margin'] = np.where(df['Sales'] > 0, df['Profit'] / df['Sales'], np.nan)"
   ]
  },
  {
   "cell_type": "markdown",
   "id": "314f35e8",
   "metadata": {},
   "source": [
    "### Cek ulang kembali"
   ]
  },
  {
   "cell_type": "code",
   "execution_count": 14,
   "id": "515214c0",
   "metadata": {},
   "outputs": [
    {
     "name": "stdout",
     "output_type": "stream",
     "text": [
      "<class 'pandas.core.frame.DataFrame'>\n",
      "RangeIndex: 9994 entries, 0 to 9993\n",
      "Data columns (total 24 columns):\n",
      " #   Column         Non-Null Count  Dtype         \n",
      "---  ------         --------------  -----         \n",
      " 0   Row ID         9994 non-null   int64         \n",
      " 1   Order ID       9994 non-null   object        \n",
      " 2   Order Date     9994 non-null   datetime64[ns]\n",
      " 3   Date Key       9994 non-null   datetime64[ns]\n",
      " 4   Contact Name   9994 non-null   object        \n",
      " 5   Country        9994 non-null   object        \n",
      " 6   City           9994 non-null   object        \n",
      " 7   Region         9994 non-null   object        \n",
      " 8   Subregion      9994 non-null   object        \n",
      " 9   Customer       9994 non-null   object        \n",
      " 10  Customer ID    9994 non-null   int64         \n",
      " 11  Industry       9994 non-null   object        \n",
      " 12  Segment        9994 non-null   object        \n",
      " 13  Product        9994 non-null   object        \n",
      " 14  License        9994 non-null   object        \n",
      " 15  Sales          9994 non-null   float64       \n",
      " 16  Quantity       9994 non-null   int64         \n",
      " 17  Discount       9994 non-null   float64       \n",
      " 18  Profit         9994 non-null   float64       \n",
      " 19  Year           9994 non-null   int32         \n",
      " 20  Month          9994 non-null   int32         \n",
      " 21  YearMonth      9994 non-null   object        \n",
      " 22  Unit Price     9994 non-null   float64       \n",
      " 23  Profit Margin  9994 non-null   float64       \n",
      "dtypes: datetime64[ns](2), float64(5), int32(2), int64(3), object(12)\n",
      "memory usage: 1.8+ MB\n"
     ]
    },
    {
     "data": {
      "text/html": [
       "<div>\n",
       "<style scoped>\n",
       "    .dataframe tbody tr th:only-of-type {\n",
       "        vertical-align: middle;\n",
       "    }\n",
       "\n",
       "    .dataframe tbody tr th {\n",
       "        vertical-align: top;\n",
       "    }\n",
       "\n",
       "    .dataframe thead th {\n",
       "        text-align: right;\n",
       "    }\n",
       "</style>\n",
       "<table border=\"1\" class=\"dataframe\">\n",
       "  <thead>\n",
       "    <tr style=\"text-align: right;\">\n",
       "      <th></th>\n",
       "      <th>Row ID</th>\n",
       "      <th>Order Date</th>\n",
       "      <th>Date Key</th>\n",
       "      <th>Customer ID</th>\n",
       "      <th>Sales</th>\n",
       "      <th>Quantity</th>\n",
       "      <th>Discount</th>\n",
       "      <th>Profit</th>\n",
       "      <th>Year</th>\n",
       "      <th>Month</th>\n",
       "      <th>Unit Price</th>\n",
       "      <th>Profit Margin</th>\n",
       "    </tr>\n",
       "  </thead>\n",
       "  <tbody>\n",
       "    <tr>\n",
       "      <th>count</th>\n",
       "      <td>9994.000000</td>\n",
       "      <td>9994</td>\n",
       "      <td>9994</td>\n",
       "      <td>9994.000000</td>\n",
       "      <td>9994.000000</td>\n",
       "      <td>9994.000000</td>\n",
       "      <td>9994.000000</td>\n",
       "      <td>9994.000000</td>\n",
       "      <td>9994.000000</td>\n",
       "      <td>9994.000000</td>\n",
       "      <td>9994.000000</td>\n",
       "      <td>9994.000000</td>\n",
       "    </tr>\n",
       "    <tr>\n",
       "      <th>mean</th>\n",
       "      <td>4997.500000</td>\n",
       "      <td>2022-05-01 00:07:12.259355648</td>\n",
       "      <td>2022-05-01 00:07:12.259355648</td>\n",
       "      <td>1049.771963</td>\n",
       "      <td>229.858001</td>\n",
       "      <td>3.789574</td>\n",
       "      <td>0.156203</td>\n",
       "      <td>28.656896</td>\n",
       "      <td>2021.722934</td>\n",
       "      <td>7.814889</td>\n",
       "      <td>60.919569</td>\n",
       "      <td>0.120314</td>\n",
       "    </tr>\n",
       "    <tr>\n",
       "      <th>min</th>\n",
       "      <td>1.000000</td>\n",
       "      <td>2020-01-04 00:00:00</td>\n",
       "      <td>2020-01-04 00:00:00</td>\n",
       "      <td>1001.000000</td>\n",
       "      <td>0.444000</td>\n",
       "      <td>1.000000</td>\n",
       "      <td>0.000000</td>\n",
       "      <td>-6599.978000</td>\n",
       "      <td>2020.000000</td>\n",
       "      <td>1.000000</td>\n",
       "      <td>0.336000</td>\n",
       "      <td>-2.750000</td>\n",
       "    </tr>\n",
       "    <tr>\n",
       "      <th>25%</th>\n",
       "      <td>2499.250000</td>\n",
       "      <td>2021-05-23 00:00:00</td>\n",
       "      <td>2021-05-23 00:00:00</td>\n",
       "      <td>1024.000000</td>\n",
       "      <td>17.280000</td>\n",
       "      <td>2.000000</td>\n",
       "      <td>0.000000</td>\n",
       "      <td>1.728750</td>\n",
       "      <td>2021.000000</td>\n",
       "      <td>5.000000</td>\n",
       "      <td>5.470000</td>\n",
       "      <td>0.075000</td>\n",
       "    </tr>\n",
       "    <tr>\n",
       "      <th>50%</th>\n",
       "      <td>4997.500000</td>\n",
       "      <td>2022-06-27 00:00:00</td>\n",
       "      <td>2022-06-27 00:00:00</td>\n",
       "      <td>1049.000000</td>\n",
       "      <td>54.490000</td>\n",
       "      <td>3.000000</td>\n",
       "      <td>0.200000</td>\n",
       "      <td>8.666500</td>\n",
       "      <td>2022.000000</td>\n",
       "      <td>9.000000</td>\n",
       "      <td>16.270000</td>\n",
       "      <td>0.270000</td>\n",
       "    </tr>\n",
       "    <tr>\n",
       "      <th>75%</th>\n",
       "      <td>7495.750000</td>\n",
       "      <td>2023-05-15 00:00:00</td>\n",
       "      <td>2023-05-15 00:00:00</td>\n",
       "      <td>1076.000000</td>\n",
       "      <td>209.940000</td>\n",
       "      <td>5.000000</td>\n",
       "      <td>0.200000</td>\n",
       "      <td>29.364000</td>\n",
       "      <td>2023.000000</td>\n",
       "      <td>11.000000</td>\n",
       "      <td>63.940000</td>\n",
       "      <td>0.362500</td>\n",
       "    </tr>\n",
       "    <tr>\n",
       "      <th>max</th>\n",
       "      <td>9994.000000</td>\n",
       "      <td>2023-12-31 00:00:00</td>\n",
       "      <td>2023-12-31 00:00:00</td>\n",
       "      <td>1101.000000</td>\n",
       "      <td>22638.480000</td>\n",
       "      <td>14.000000</td>\n",
       "      <td>0.800000</td>\n",
       "      <td>8399.976000</td>\n",
       "      <td>2023.000000</td>\n",
       "      <td>12.000000</td>\n",
       "      <td>3773.080000</td>\n",
       "      <td>0.500000</td>\n",
       "    </tr>\n",
       "    <tr>\n",
       "      <th>std</th>\n",
       "      <td>2885.163629</td>\n",
       "      <td>NaN</td>\n",
       "      <td>NaN</td>\n",
       "      <td>29.719388</td>\n",
       "      <td>623.245101</td>\n",
       "      <td>2.225110</td>\n",
       "      <td>0.206452</td>\n",
       "      <td>234.260108</td>\n",
       "      <td>1.124039</td>\n",
       "      <td>3.285561</td>\n",
       "      <td>142.927440</td>\n",
       "      <td>0.466754</td>\n",
       "    </tr>\n",
       "  </tbody>\n",
       "</table>\n",
       "</div>"
      ],
      "text/plain": [
       "            Row ID                     Order Date  \\\n",
       "count  9994.000000                           9994   \n",
       "mean   4997.500000  2022-05-01 00:07:12.259355648   \n",
       "min       1.000000            2020-01-04 00:00:00   \n",
       "25%    2499.250000            2021-05-23 00:00:00   \n",
       "50%    4997.500000            2022-06-27 00:00:00   \n",
       "75%    7495.750000            2023-05-15 00:00:00   \n",
       "max    9994.000000            2023-12-31 00:00:00   \n",
       "std    2885.163629                            NaN   \n",
       "\n",
       "                            Date Key  Customer ID         Sales     Quantity  \\\n",
       "count                           9994  9994.000000   9994.000000  9994.000000   \n",
       "mean   2022-05-01 00:07:12.259355648  1049.771963    229.858001     3.789574   \n",
       "min              2020-01-04 00:00:00  1001.000000      0.444000     1.000000   \n",
       "25%              2021-05-23 00:00:00  1024.000000     17.280000     2.000000   \n",
       "50%              2022-06-27 00:00:00  1049.000000     54.490000     3.000000   \n",
       "75%              2023-05-15 00:00:00  1076.000000    209.940000     5.000000   \n",
       "max              2023-12-31 00:00:00  1101.000000  22638.480000    14.000000   \n",
       "std                              NaN    29.719388    623.245101     2.225110   \n",
       "\n",
       "          Discount       Profit         Year        Month   Unit Price  \\\n",
       "count  9994.000000  9994.000000  9994.000000  9994.000000  9994.000000   \n",
       "mean      0.156203    28.656896  2021.722934     7.814889    60.919569   \n",
       "min       0.000000 -6599.978000  2020.000000     1.000000     0.336000   \n",
       "25%       0.000000     1.728750  2021.000000     5.000000     5.470000   \n",
       "50%       0.200000     8.666500  2022.000000     9.000000    16.270000   \n",
       "75%       0.200000    29.364000  2023.000000    11.000000    63.940000   \n",
       "max       0.800000  8399.976000  2023.000000    12.000000  3773.080000   \n",
       "std       0.206452   234.260108     1.124039     3.285561   142.927440   \n",
       "\n",
       "       Profit Margin  \n",
       "count    9994.000000  \n",
       "mean        0.120314  \n",
       "min        -2.750000  \n",
       "25%         0.075000  \n",
       "50%         0.270000  \n",
       "75%         0.362500  \n",
       "max         0.500000  \n",
       "std         0.466754  "
      ]
     },
     "execution_count": 14,
     "metadata": {},
     "output_type": "execute_result"
    }
   ],
   "source": [
    "df.info()\n",
    "df.describe()"
   ]
  },
  {
   "cell_type": "markdown",
   "id": "df8608b1",
   "metadata": {},
   "source": [
    "Nilai NaN pada kolom std di bagian describe() untuk Order Date dan Date Key adalah normal, karena tipe data datetime tidak memiliki deviasi standar numerik. Tidak menunjukkan adanya missing value."
   ]
  },
  {
   "cell_type": "markdown",
   "id": "aa9fef47",
   "metadata": {},
   "source": [
    "## Profit Margin Cleaning\n",
    "\n",
    "- Progress ini berfokus cleaning pada outlier pada \"Sales\" yang dimana berpotensi besar pada perhitungan total/average."
   ]
  },
  {
   "cell_type": "code",
   "execution_count": 15,
   "id": "559c12e3",
   "metadata": {},
   "outputs": [],
   "source": [
    "df = df[(df['Profit Margin'] >= -1) & (df['Profit Margin'] <= 1)]"
   ]
  },
  {
   "cell_type": "markdown",
   "id": "faac6004",
   "metadata": {},
   "source": [
    "- Drop baris dengan Sales= 0"
   ]
  },
  {
   "cell_type": "code",
   "execution_count": 16,
   "id": "d5be8ae9",
   "metadata": {},
   "outputs": [],
   "source": [
    "df = df[df['Sales'] > 0]"
   ]
  },
  {
   "cell_type": "code",
   "execution_count": 17,
   "id": "7ca86ec3",
   "metadata": {},
   "outputs": [],
   "source": [
    "df['Profit Margin'] = df['Profit'] / df['Sales']"
   ]
  },
  {
   "cell_type": "markdown",
   "id": "1174cd94",
   "metadata": {},
   "source": [
    "### Save dataset baru "
   ]
  },
  {
   "cell_type": "code",
   "execution_count": 18,
   "id": "3ae528f2",
   "metadata": {},
   "outputs": [
    {
     "name": "stdout",
     "output_type": "stream",
     "text": [
      "Dataset SaaS-Sales-Clean.csv\n"
     ]
    }
   ],
   "source": [
    "df.to_csv(\"SaaS-Sales-Clean.csv\", index=False)\n",
    "print(\"Dataset SaaS-Sales-Clean.csv\")"
   ]
  },
  {
   "cell_type": "markdown",
   "id": "eabdcb4a",
   "metadata": {},
   "source": [
    "### Cek visual akhir"
   ]
  },
  {
   "cell_type": "code",
   "execution_count": null,
   "id": "7704927d",
   "metadata": {},
   "outputs": [
    {
     "data": {
      "image/png": "[encoded data removed]",
      "text/plain": [
       "<Figure size 1000x800 with 2 Axes>"
      ]
     },
     "metadata": {},
     "output_type": "display_data"
    }
   ],
   "source": [
    "num_cols = df.select_dtypes(include=np.number)\n",
    "plt.figure(figsize=(10,8))\n",
    "sns.heatmap(num_cols.corr(), annot=True, cmap='coolwarm')\n",
    "plt.title('Korelasi antar variabel numerik')\n",
    "plt.show()"
   ]
  },
  {
   "cell_type": "markdown",
   "id": "9db34f1a",
   "metadata": {},
   "source": [
    "#### Insight Utama (Heatmap)\n",
    "\n",
    "- Hubungan Diskon dan Profit Margin masih menjadi faktor paling kritis: korelasi kuat negatif (-0.83) menunjukkan diskon besar secara langsung menekan margin keuntungan.\n",
    "\n",
    "- Korelasi Sales dan Unit Price (0.89) menandakan bahwa produk dengan harga tinggi menyumbang proporsi penjualan besar.\n",
    "\n",
    "- Profit dan Sales (0.58) tetap sejalan, mengindikasikan bahwa volume transaksi masih berdampak positif pada profitabilitas.\n",
    "\n",
    "- Korelasi Discount vs Profit (-0.19) melemah setelah data dibersihkan — ini menandakan pengaruh diskon terhadap total profit tidak selalu linear, mungkin karena volume penjualan ikut meningkat saat diskon besar diberikan"
   ]
  },
  {
   "cell_type": "markdown",
   "id": "2e1ae9c9",
   "metadata": {},
   "source": [
    "## Hasil analisis dan cleaning"
   ]
  },
  {
   "cell_type": "markdown",
   "id": "5019b9d8",
   "metadata": {},
   "source": [
    "### 1. Kualitas dan Struktur Data\n",
    "Setelah proses data cleaning dan standarisasi format, dataset SaaS-Sales kini sudah lebih konsisten dan siap digunakan untuk analisis visual di Tableau.\n",
    "Langkah-langkah perbaikan meliputi:\n",
    "\n",
    "- Tipe data: seluruh kolom tanggal (Order Date, Date Key) sudah dikonversi ke format datetime.\n",
    "\n",
    "- Kolom numerik (Sales, Profit, Quantity, Discount, Unit Price, Profit Margin) telah dikonversi ke tipe float.\n",
    "\n",
    "- Kolom kategorikal (Country, Customer, Product, Segment, Region) sudah dibersihkan dari spasi, karakter aneh, dan duplikasi.\n",
    "\n",
    "- Missing value: sebagian kecil nilai kosong pada kolom kategorikal diisi dengan \"Unknown\", sedangkan kolom numerik diimputasi dengan median.\n",
    "\n",
    "- Outlier: nilai Profit Margin ekstrem (di atas 100%) telah dihapus agar hasil analisis lebih realistis.\n",
    "\n",
    "- Duplikat: baris duplikat pada Order ID dan Row ID dihapus untuk mencegah bias pada agregasi penjualan.\n",
    "\n",
    "#### Hasil akhir cleaning menunjukkan bahwa:\n",
    "\n",
    "- Rata-rata Profit Margin turun dari 120% menjadi sekitar 19%, yang kini lebih realistis dan sejalan dengan rasio profit wajar dalam bisnis SaaS.\n",
    "\n",
    "\n",
    "### 2. Gambaran Umum Data Penjualan\n",
    "\n",
    "- Dataset memuat ribuan transaksi penjualan SaaS yang tersebar di berbagai wilayah dan segmen pelanggan (Enterprise, SMB, Strategic).\n",
    "\n",
    "- Nilai Sales dan Profit bervariasi cukup luas — mencerminkan adanya transaksi kecil dari klien SME serta transaksi besar dari klien korporat.\n",
    "\n",
    "- Sebagian kecil transaksi mencatat profit negatif, menandakan potensi rugi akibat pemberian diskon besar.\n",
    "\n",
    "- Sebaliknya, transaksi dengan Unit Price tinggi umumnya menghasilkan Profit Margin di atas rata-rata.\n",
    "\n",
    "3. Analisis Korelasi Antar Variabel (Revisi dari Heatmap Baru)\n",
    "\n",
    "Berdasarkan heatmap korelasi antar variabel numerik, diperoleh hubungan sebagai berikut:\n",
    "\n",
    "| Hubungan Variabel            | Nilai Korelasi | Interpretasi                                                                                          |\n",
    "| ---------------------------- | -------------- | ----------------------------------------------------------------------------------------------------- |\n",
    "| **Discount ↔ Profit Margin** | **−0.83**      | Korelasi negatif kuat — semakin tinggi diskon yang diberikan, semakin rendah margin keuntungan.       |\n",
    "| **Sales ↔ Profit**           | **+0.58**      | Korelasi positif sedang — penjualan tinggi cenderung diikuti peningkatan profit.                      |\n",
    "| **Sales ↔ Unit Price**       | **+0.89**      | Korelasi positif sangat kuat — semakin tinggi harga unit, semakin besar total penjualan.              |\n",
    "| **Profit ↔ Unit Price**      | **+0.57**      | Produk dengan harga tinggi umumnya memberikan profit lebih besar.                                     |\n",
    "| **Discount ↔ Profit**        | **−0.19**      | Korelasi negatif lemah — diskon tinggi sedikit menurunkan total profit, tetapi tidak terlalu drastis. |\n",
    "\n",
    "#### Kesimpulan\n",
    "\n",
    "Setelah pembersihan data, hubungan antar variabel menjadi lebih stabil dan mencerminkan pola bisnis SaaS yang realistis.\n",
    "Diskon terbukti berpengaruh negatif signifikan terhadap margin, sementara harga unit tinggi memberikan kontribusi terbesar terhadap penjualan dan profit.\n",
    "Perusahaan perlu menjaga keseimbangan antara strategi diskon dan profit margin untuk mempertahankan pertumbuhan yang berkelanjutan."
   ]
  }
 ],
 "metadata": {
  "kernelspec": {
   "display_name": "jcdsbsdam29",
   "language": "python",
   "name": "python3"
  },
  "language_info": {
   "codemirror_mode": {
    "name": "ipython",
    "version": 3
   },
   "file_extension": ".py",
   "mimetype": "text/x-python",
   "name": "python",
   "nbconvert_exporter": "python",
   "pygments_lexer": "ipython3",
   "version": "3.13.5"
  }
 },
 "nbformat": 4,
 "nbformat_minor": 5
}
